{
 "cells": [
  {
   "cell_type": "markdown",
   "source": [
    "## Imports"
   ],
   "metadata": {
    "collapsed": false
   }
  },
  {
   "cell_type": "code",
   "execution_count": null,
   "outputs": [],
   "source": [
    "import numpy as np\n",
    "import matplotlib.pyplot as plt\n",
    "from tensorflow import keras\n",
    "from keras.datasets import mnist"
   ],
   "metadata": {
    "collapsed": false,
    "pycharm": {
     "name": "#%%\n"
    }
   }
  },
  {
   "cell_type": "markdown",
   "source": [
    "## Load the MNIST dataset"
   ],
   "metadata": {
    "collapsed": false
   }
  },
  {
   "cell_type": "code",
   "execution_count": null,
   "outputs": [],
   "source": [
    "(X_train_orig, _), (X_test, _) = mnist.load_data()\n",
    "# verify size\n",
    "np.concatenate((X_train_orig, X_test)).shape"
   ],
   "metadata": {
    "collapsed": false,
    "pycharm": {
     "name": "#%%\n"
    }
   }
  },
  {
   "cell_type": "markdown",
   "source": [
    "## Function to add noise to an image array"
   ],
   "metadata": {
    "collapsed": false,
    "pycharm": {
     "name": "#%% md\n"
    }
   }
  },
  {
   "cell_type": "code",
   "execution_count": null,
   "outputs": [],
   "source": [
    "def add_noise(images, amount=0.1):\n",
    "    corrupted = []\n",
    "    for image in images:\n",
    "        s_vs_p = 0.5\n",
    "        out = np.copy(image)\n",
    "        # Salt mode\n",
    "        num_salt = np.ceil(amount * image.size * s_vs_p)\n",
    "        coords = [np.random.randint(0, j - 1, int(num_salt))\n",
    "                  for j in image.shape]\n",
    "        out[coords] = 1\n",
    "\n",
    "        # Pepper mode\n",
    "        num_pepper = np.ceil(amount * image.size * (1. - s_vs_p))\n",
    "        coords = [np.random.randint(0, j - 1, int(num_pepper))\n",
    "                  for j in image.shape]\n",
    "        out[coords] = 0\n",
    "        corrupted.append(tuple(out))\n",
    "    return np.array(corrupted)"
   ],
   "metadata": {
    "collapsed": false,
    "pycharm": {
     "name": "#%%\n"
    }
   }
  },
  {
   "cell_type": "markdown",
   "source": [
    "## Normalize RGB codes and create corrupted data"
   ],
   "metadata": {
    "collapsed": false
   }
  },
  {
   "cell_type": "code",
   "execution_count": null,
   "outputs": [],
   "source": [
    "max_value = float(X_train_orig.max())\n",
    "X_Train = X_train_orig.astype(np.float32) / max_value\n",
    "X_Test = X_test.astype(np.float32) / max_value\n",
    "\n",
    "#Train and validation split\n",
    "X_train, X_valid = X_Train, X_Test\n",
    "X_corrupted = add_noise(X_train, amount=0.4)\n",
    "X_train.shape, X_valid.shape, X_corrupted.shape"
   ],
   "metadata": {
    "collapsed": false,
    "pycharm": {
     "name": "#%%\n"
    }
   }
  },
  {
   "cell_type": "markdown",
   "source": [
    "## Plot the given image"
   ],
   "metadata": {
    "collapsed": false
   }
  },
  {
   "cell_type": "code",
   "execution_count": null,
   "outputs": [],
   "source": [
    "def plot_image(image):\n",
    "    plt.imshow(image, cmap=\"binary\")\n",
    "    plt.axis(\"off\")"
   ],
   "metadata": {
    "collapsed": false,
    "pycharm": {
     "name": "#%%\n"
    }
   }
  },
  {
   "cell_type": "markdown",
   "source": [
    "## Create a plot to show 10 original and reconstructed images beneath each other.\n",
    "\n",
    "### When noise is True, the corrupted image will be displayed as well"
   ],
   "metadata": {
    "collapsed": false
   }
  },
  {
   "cell_type": "code",
   "execution_count": null,
   "outputs": [],
   "source": [
    "def show_reconstructions(model, images=X_valid, n_images=10):\n",
    "    reconstructions = model.predict(images[:n_images])\n",
    "    plt.figure(figsize=(n_images * 1.5, 3))\n",
    "    for image_index in range(n_images):\n",
    "        # add original image to plot\n",
    "        plt.subplot(3, n_images, 1 + image_index)\n",
    "        plot_image(images[image_index])\n",
    "        # add noisy image to plot, if needed\n",
    "        plt.subplot(3, n_images, 1 + n_images + image_index)\n",
    "        plot_image(X_corrupted[image_index])\n",
    "        # add reconstructed  image to plot\n",
    "        plt.subplot(3, n_images, 1 + 2 * n_images + image_index)\n",
    "        plot_image(reconstructions[image_index])\n"
   ],
   "metadata": {
    "collapsed": false,
    "pycharm": {
     "name": "#%%\n"
    }
   }
  },
  {
   "cell_type": "markdown",
   "source": [
    "\n",
    "## Train the autoencoder on a combination of different dense layer sizes and count, with noise.\n",
    "\n",
    "| number of dense layers | dense layer size(ordered)  |\n",
    "|-----------------------:|:--------------------------:|\n",
    "|                      1 |            392             |\n",
    "|                      3 |      392 - 196 - 392       |\n",
    "|                      5 | 392 - 196 - 98 - 196 - 392 |"
   ],
   "metadata": {
    "collapsed": false
   }
  },
  {
   "cell_type": "code",
   "execution_count": 7,
   "outputs": [],
   "source": [
    "for i in range(3):\n",
    "    inputs = keras.Input(shape=(28, 28))\n",
    "    layer_flatten = keras.layers.Flatten()(inputs)\n",
    "    if i == 0:\n",
    "        layer1 = keras.layers.Dense(392, activation=\"selu\")(layer_flatten)\n",
    "        final_layer = keras.layers.Dense(28 * 28, activation=\"sigmoid\")(layer1)\n",
    "    elif i == 1:\n",
    "        layer1 = keras.layers.Dense(392, activation=\"selu\")(layer_flatten)\n",
    "        layer2 = keras.layers.Dense(196, activation=\"selu\")(layer1)\n",
    "        layer3 = keras.layers.Dense(392, activation=\"selu\")(layer2)\n",
    "        final_layer = keras.layers.Dense(28 * 28, activation=\"sigmoid\")(layer3)\n",
    "    else:\n",
    "        lr0 = keras.layers.Dense(392, activation=\"selu\")(layer_flatten)\n",
    "        layer1 = keras.layers.Dense(196, activation=\"selu\")(lr0)\n",
    "        layer2 = keras.layers.Dense(98, activation=\"selu\")(layer1)\n",
    "        layer3 = keras.layers.Dense(196, activation=\"selu\")(layer2)\n",
    "        layer4 = keras.layers.Dense(392, activation=\"selu\")(layer3)\n",
    "        final_layer = keras.layers.Dense(28 * 28, activation=\"sigmoid\")(layer4)\n",
    "\n",
    "    outputs = keras.layers.Reshape([28, 28])(final_layer)\n",
    "    autoencoder = keras.models.Model(inputs, outputs)\n",
    "    autoencoder.compile(loss=\"mean_squared_error\", optimizer=keras.optimizers.SGD(lr=0.1))\n",
    "    autoencoder.summary()\n",
    "    callback = keras.callbacks.TensorBoard(\n",
    "        log_dir=\"logs/noise_only/layers_\" + str(i * 2 + 1),\n",
    "        histogram_freq=0,\n",
    "        write_graph=True,\n",
    "        write_steps_per_second=False,\n",
    "        update_freq=\"epoch\",\n",
    "        profile_batch=0,\n",
    "        embeddings_freq=0,\n",
    "        embeddings_metadata=None,\n",
    "    )\n",
    "\n",
    "    h_stack = autoencoder.fit(X_corrupted, X_corrupted, epochs=50, validation_data=[X_valid, X_valid],\n",
    "                              callbacks=[callback])\n",
    "    show_reconstructions(autoencoder)"
   ],
   "metadata": {
    "collapsed": false,
    "pycharm": {
     "name": "#%%\n"
    }
   }
  }
 ],
 "metadata": {
  "kernelspec": {
   "display_name": "Python 3",
   "language": "python",
   "name": "python3"
  },
  "language_info": {
   "codemirror_mode": {
    "name": "ipython",
    "version": 2
   },
   "file_extension": ".py",
   "mimetype": "text/x-python",
   "name": "python",
   "nbconvert_exporter": "python",
   "pygments_lexer": "ipython2",
   "version": "2.7.6"
  }
 },
 "nbformat": 4,
 "nbformat_minor": 0
}